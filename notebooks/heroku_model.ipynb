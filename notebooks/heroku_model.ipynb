{
  "nbformat": 4,
  "nbformat_minor": 0,
  "metadata": {
    "colab": {
      "name": "heroku_model.ipynb",
      "provenance": []
    },
    "kernelspec": {
      "name": "python3",
      "display_name": "Python 3"
    }
  },
  "cells": [
    {
      "cell_type": "code",
      "metadata": {
        "id": "y3fyBVQaeFUD"
      },
      "source": [
        "# Imports \n",
        "\n",
        "import pandas as pd\n",
        "import numpy as np \n",
        "from sklearn.cluster import KMeans\n",
        "from sklearn.preprocessing import StandardScaler\n",
        "from sklearn.neighbors import NearestNeighbors"
      ],
      "execution_count": null,
      "outputs": []
    },
    {
      "cell_type": "code",
      "metadata": {
        "colab": {
          "base_uri": "https://localhost:8080/",
          "height": 204
        },
        "id": "UsesFFA6eQPt",
        "outputId": "798dce9c-232e-4a6b-df27-f0dafe512927"
      },
      "source": [
        "import pandas as pd\n",
        "\n",
        "scaled = pd.read_csv('https://raw.githubusercontent.com/trackteam-spotify/data-science/master/data/final_scaled_dataset.csv')\n",
        "\n",
        "scaled.head()"
      ],
      "execution_count": null,
      "outputs": [
        {
          "output_type": "execute_result",
          "data": {
            "text/html": [
              "<div>\n",
              "<style scoped>\n",
              "    .dataframe tbody tr th:only-of-type {\n",
              "        vertical-align: middle;\n",
              "    }\n",
              "\n",
              "    .dataframe tbody tr th {\n",
              "        vertical-align: top;\n",
              "    }\n",
              "\n",
              "    .dataframe thead th {\n",
              "        text-align: right;\n",
              "    }\n",
              "</style>\n",
              "<table border=\"1\" class=\"dataframe\">\n",
              "  <thead>\n",
              "    <tr style=\"text-align: right;\">\n",
              "      <th></th>\n",
              "      <th>index</th>\n",
              "      <th>artist_name</th>\n",
              "      <th>track_name</th>\n",
              "      <th>track_id</th>\n",
              "      <th>popularity</th>\n",
              "      <th>danceability</th>\n",
              "      <th>energy</th>\n",
              "      <th>instrumentalness</th>\n",
              "      <th>liveness</th>\n",
              "      <th>loudness</th>\n",
              "      <th>tempo</th>\n",
              "    </tr>\n",
              "  </thead>\n",
              "  <tbody>\n",
              "    <tr>\n",
              "      <th>0</th>\n",
              "      <td>1</td>\n",
              "      <td>Nicholas Britell</td>\n",
              "      <td>Eros</td>\n",
              "      <td>3w5s0j9clwhk0O2uScrNOo</td>\n",
              "      <td>-0.259352</td>\n",
              "      <td>-2.986856</td>\n",
              "      <td>-1.425094</td>\n",
              "      <td>2.658536</td>\n",
              "      <td>-0.859445</td>\n",
              "      <td>-2.108236</td>\n",
              "      <td>-1.200244</td>\n",
              "    </tr>\n",
              "    <tr>\n",
              "      <th>1</th>\n",
              "      <td>2</td>\n",
              "      <td>Seeb</td>\n",
              "      <td>Grip</td>\n",
              "      <td>3gicyfiEVMGONgzygpWjNT</td>\n",
              "      <td>3.219563</td>\n",
              "      <td>0.049805</td>\n",
              "      <td>1.276434</td>\n",
              "      <td>-0.398629</td>\n",
              "      <td>0.478628</td>\n",
              "      <td>1.254850</td>\n",
              "      <td>0.614084</td>\n",
              "    </tr>\n",
              "    <tr>\n",
              "      <th>2</th>\n",
              "      <td>3</td>\n",
              "      <td>Lagwagon</td>\n",
              "      <td>Reign</td>\n",
              "      <td>7jLDlShR2ARgNKyAOD94LD</td>\n",
              "      <td>-1.157137</td>\n",
              "      <td>-0.673351</td>\n",
              "      <td>1.466926</td>\n",
              "      <td>-0.397736</td>\n",
              "      <td>-0.172702</td>\n",
              "      <td>0.643049</td>\n",
              "      <td>-0.479831</td>\n",
              "    </tr>\n",
              "    <tr>\n",
              "      <th>3</th>\n",
              "      <td>4</td>\n",
              "      <td>Super Whatevr</td>\n",
              "      <td>Someone Somewhere Somehow</td>\n",
              "      <td>0XvFwux1NYJrKmCYJ7DOjE</td>\n",
              "      <td>-1.157137</td>\n",
              "      <td>-0.922306</td>\n",
              "      <td>-1.455400</td>\n",
              "      <td>-0.296192</td>\n",
              "      <td>-0.394028</td>\n",
              "      <td>-1.292787</td>\n",
              "      <td>0.206582</td>\n",
              "    </tr>\n",
              "    <tr>\n",
              "      <th>4</th>\n",
              "      <td>5</td>\n",
              "      <td>The Front Bottoms</td>\n",
              "      <td>Flashlight</td>\n",
              "      <td>0xR5ZhiksJK6lMRdI6S2A4</td>\n",
              "      <td>-0.371575</td>\n",
              "      <td>-0.951944</td>\n",
              "      <td>1.107588</td>\n",
              "      <td>-0.398629</td>\n",
              "      <td>-0.526824</td>\n",
              "      <td>0.942632</td>\n",
              "      <td>1.048378</td>\n",
              "    </tr>\n",
              "  </tbody>\n",
              "</table>\n",
              "</div>"
            ],
            "text/plain": [
              "   index        artist_name  ...  loudness     tempo\n",
              "0      1   Nicholas Britell  ... -2.108236 -1.200244\n",
              "1      2               Seeb  ...  1.254850  0.614084\n",
              "2      3           Lagwagon  ...  0.643049 -0.479831\n",
              "3      4      Super Whatevr  ... -1.292787  0.206582\n",
              "4      5  The Front Bottoms  ...  0.942632  1.048378\n",
              "\n",
              "[5 rows x 11 columns]"
            ]
          },
          "metadata": {
            "tags": []
          },
          "execution_count": 16
        }
      ]
    },
    {
      "cell_type": "code",
      "metadata": {
        "colab": {
          "base_uri": "https://localhost:8080/"
        },
        "id": "BfGV4bcKvNHp",
        "outputId": "b1824327-c26e-401e-af69-c8f46a48df20"
      },
      "source": [
        "scaled.shape"
      ],
      "execution_count": null,
      "outputs": [
        {
          "output_type": "execute_result",
          "data": {
            "text/plain": [
              "(5000, 11)"
            ]
          },
          "metadata": {
            "tags": []
          },
          "execution_count": 17
        }
      ]
    },
    {
      "cell_type": "code",
      "metadata": {
        "id": "sMBscS7tg1iX"
      },
      "source": [
        "# Variables to cluster\n",
        "\n",
        "cluster = ['popularity', 'danceability', 'energy', 'instrumentalness', 'liveness', 'loudness', 'tempo']\n",
        "\n",
        "distortion = list()\n",
        "for k in range(1, 31): #started with range [1, 51] and narrowed down to this range \n",
        "    kmeans = KMeans(n_clusters = k)\n",
        "    kmeans.fit(scaled.loc[:, cluster])\n",
        "    distortion.append(kmeans.inertia_) # append distortion value to list"
      ],
      "execution_count": null,
      "outputs": []
    },
    {
      "cell_type": "markdown",
      "metadata": {
        "id": "VSByRqz9hRnS"
      },
      "source": [
        "## Modeling K-Nearest Neighbors"
      ]
    },
    {
      "cell_type": "code",
      "metadata": {
        "colab": {
          "base_uri": "https://localhost:8080/"
        },
        "id": "dWxzVasKhUMJ",
        "outputId": "1754cb8f-6855-489f-fc8a-14d25884cc7a"
      },
      "source": [
        "knn = NearestNeighbors(n_neighbors=15)\n",
        "features = ['popularity', 'danceability', 'energy', 'instrumentalness', 'liveness', 'loudness', 'tempo']\n",
        "X = scaled[features].values\n",
        "\n",
        "knn.fit(X)"
      ],
      "execution_count": null,
      "outputs": [
        {
          "output_type": "execute_result",
          "data": {
            "text/plain": [
              "NearestNeighbors(algorithm='auto', leaf_size=30, metric='minkowski',\n",
              "                 metric_params=None, n_jobs=None, n_neighbors=15, p=2,\n",
              "                 radius=1.0)"
            ]
          },
          "metadata": {
            "tags": []
          },
          "execution_count": 21
        }
      ]
    },
    {
      "cell_type": "code",
      "metadata": {
        "colab": {
          "base_uri": "https://localhost:8080/"
        },
        "id": "fvB7YBiihfiv",
        "outputId": "5fc80671-3ff0-4b70-fb11-357491fc722f"
      },
      "source": [
        "# test on 1 song\n",
        "test_song = X[20]\n",
        "\n",
        "distance, neighbors = knn.kneighbors(np.array([test_song]))\n",
        "distance, neighbors"
      ],
      "execution_count": null,
      "outputs": [
        {
          "output_type": "execute_result",
          "data": {
            "text/plain": [
              "(array([[0.        , 1.46766252, 1.52314017, 1.57377157, 1.74079113,\n",
              "         1.78388131, 1.96554481, 2.17543608, 2.1992158 , 2.20622472,\n",
              "         2.26835241, 2.36159373, 2.48934627, 2.50503793, 2.51645628]]),\n",
              " array([[  10, 1393,  413, 2638,  561, 4245, 1102, 2066, 3352, 3298, 2179,\n",
              "         4048, 4914, 3753, 2233]]))"
            ]
          },
          "metadata": {
            "tags": []
          },
          "execution_count": 54
        }
      ]
    },
    {
      "cell_type": "code",
      "metadata": {
        "colab": {
          "base_uri": "https://localhost:8080/"
        },
        "id": "_PZ1FGhNhiKB",
        "outputId": "564dbf16-c6dc-4ae2-c909-ecb2ebe680b3"
      },
      "source": [
        "scaled.iloc[20]"
      ],
      "execution_count": null,
      "outputs": [
        {
          "output_type": "execute_result",
          "data": {
            "text/plain": [
              "index                                           21\n",
              "artist_name                               Dua Lipa\n",
              "track_name          New Rules - Initial Talk Remix\n",
              "track_id                    2ygfHXyt3gvyhvKrNJU61n\n",
              "popularity                                0.750656\n",
              "danceability                             -0.341411\n",
              "energy                                     1.59248\n",
              "instrumentalness                         -0.398629\n",
              "liveness                                 -0.235938\n",
              "loudness                                   1.15463\n",
              "tempo                                    -0.108978\n",
              "Name: 20, dtype: object"
            ]
          },
          "metadata": {
            "tags": []
          },
          "execution_count": 56
        }
      ]
    },
    {
      "cell_type": "markdown",
      "metadata": {
        "id": "WLKWma8AFhHy"
      },
      "source": [
        "## New playlist based off user input"
      ]
    },
    {
      "cell_type": "code",
      "metadata": {
        "colab": {
          "base_uri": "https://localhost:8080/",
          "height": 500
        },
        "id": "dbu-AknChlr-",
        "outputId": "b4e82aaf-702c-48b5-f8bc-7405dd5f75e6"
      },
      "source": [
        "song_list = []\n",
        "for item in neighbors[0][1:]: # this way excludes itself\n",
        "    row = scaled.iloc[item]\n",
        "    song_list.append((row.track_name, row.artist_name))\n",
        "    \n",
        "names = ['song', 'artist']\n",
        "\n",
        "new_playlist = pd.DataFrame(song_list, columns=names)\n",
        "print(recommendations.shape)\n",
        "new_playlist"
      ],
      "execution_count": null,
      "outputs": [
        {
          "output_type": "stream",
          "text": [
            "(14, 2)\n"
          ],
          "name": "stdout"
        },
        {
          "output_type": "execute_result",
          "data": {
            "text/html": [
              "<div>\n",
              "<style scoped>\n",
              "    .dataframe tbody tr th:only-of-type {\n",
              "        vertical-align: middle;\n",
              "    }\n",
              "\n",
              "    .dataframe tbody tr th {\n",
              "        vertical-align: top;\n",
              "    }\n",
              "\n",
              "    .dataframe thead th {\n",
              "        text-align: right;\n",
              "    }\n",
              "</style>\n",
              "<table border=\"1\" class=\"dataframe\">\n",
              "  <thead>\n",
              "    <tr style=\"text-align: right;\">\n",
              "      <th></th>\n",
              "      <th>song</th>\n",
              "      <th>artist</th>\n",
              "    </tr>\n",
              "  </thead>\n",
              "  <tbody>\n",
              "    <tr>\n",
              "      <th>0</th>\n",
              "      <td>She's Gone</td>\n",
              "      <td>Daryl Hall &amp; John Oates</td>\n",
              "    </tr>\n",
              "    <tr>\n",
              "      <th>1</th>\n",
              "      <td>Walk On Water (feat. Beyoncé)</td>\n",
              "      <td>Eminem</td>\n",
              "    </tr>\n",
              "    <tr>\n",
              "      <th>2</th>\n",
              "      <td>Stupid Love Story</td>\n",
              "      <td>Canserbero</td>\n",
              "    </tr>\n",
              "    <tr>\n",
              "      <th>3</th>\n",
              "      <td>comethru</td>\n",
              "      <td>Jeremy Zucker</td>\n",
              "    </tr>\n",
              "    <tr>\n",
              "      <th>4</th>\n",
              "      <td>love yourself (interlude)</td>\n",
              "      <td>XXXTENTACION</td>\n",
              "    </tr>\n",
              "    <tr>\n",
              "      <th>5</th>\n",
              "      <td>Starman - 2012 Remastered Version</td>\n",
              "      <td>David Bowie</td>\n",
              "    </tr>\n",
              "    <tr>\n",
              "      <th>6</th>\n",
              "      <td>Someone You'd Rather Be Dating</td>\n",
              "      <td>Sports</td>\n",
              "    </tr>\n",
              "    <tr>\n",
              "      <th>7</th>\n",
              "      <td>Loco (Tu Forma de Ser) [Ft. Rubén Albarrán] - ...</td>\n",
              "      <td>Los Auténticos Decadentes</td>\n",
              "    </tr>\n",
              "    <tr>\n",
              "      <th>8</th>\n",
              "      <td>Mortal Man</td>\n",
              "      <td>Kendrick Lamar</td>\n",
              "    </tr>\n",
              "    <tr>\n",
              "      <th>9</th>\n",
              "      <td>Bring It On Home to Me</td>\n",
              "      <td>Sam Cooke</td>\n",
              "    </tr>\n",
              "    <tr>\n",
              "      <th>10</th>\n",
              "      <td>Still Here</td>\n",
              "      <td>Drake</td>\n",
              "    </tr>\n",
              "    <tr>\n",
              "      <th>11</th>\n",
              "      <td>Jello</td>\n",
              "      <td>PRETTYMUCH</td>\n",
              "    </tr>\n",
              "    <tr>\n",
              "      <th>12</th>\n",
              "      <td>One Jump Ahead</td>\n",
              "      <td>Brad Kane</td>\n",
              "    </tr>\n",
              "    <tr>\n",
              "      <th>13</th>\n",
              "      <td>Shot For Me</td>\n",
              "      <td>Drake</td>\n",
              "    </tr>\n",
              "  </tbody>\n",
              "</table>\n",
              "</div>"
            ],
            "text/plain": [
              "                                                 song                     artist\n",
              "0                                          She's Gone    Daryl Hall & John Oates\n",
              "1                       Walk On Water (feat. Beyoncé)                     Eminem\n",
              "2                                   Stupid Love Story                 Canserbero\n",
              "3                                            comethru              Jeremy Zucker\n",
              "4                           love yourself (interlude)               XXXTENTACION\n",
              "5                   Starman - 2012 Remastered Version                David Bowie\n",
              "6                      Someone You'd Rather Be Dating                     Sports\n",
              "7   Loco (Tu Forma de Ser) [Ft. Rubén Albarrán] - ...  Los Auténticos Decadentes\n",
              "8                                          Mortal Man             Kendrick Lamar\n",
              "9                              Bring It On Home to Me                  Sam Cooke\n",
              "10                                         Still Here                      Drake\n",
              "11                                              Jello                 PRETTYMUCH\n",
              "12                                     One Jump Ahead                  Brad Kane\n",
              "13                                        Shot For Me                      Drake"
            ]
          },
          "metadata": {
            "tags": []
          },
          "execution_count": 57
        }
      ]
    }
  ]
}
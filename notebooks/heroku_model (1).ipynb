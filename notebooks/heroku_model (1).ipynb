{
  "nbformat": 4,
  "nbformat_minor": 0,
  "metadata": {
    "colab": {
      "name": "heroku_model.ipynb",
      "provenance": [],
      "toc_visible": true
    },
    "kernelspec": {
      "name": "python3",
      "display_name": "Python 3"
    }
  },
  "cells": [
    {
      "cell_type": "code",
      "metadata": {
        "id": "y3fyBVQaeFUD"
      },
      "source": [
        "# Imports \n",
        "\n",
        "import pandas as pd\n",
        "import numpy as np \n",
        "from sklearn.cluster import KMeans\n",
        "from sklearn.preprocessing import StandardScaler\n",
        "from sklearn.neighbors import NearestNeighbors"
      ],
      "execution_count": 1,
      "outputs": []
    },
    {
      "cell_type": "code",
      "metadata": {
        "colab": {
          "base_uri": "https://localhost:8080/",
          "height": 204
        },
        "id": "UsesFFA6eQPt",
        "outputId": "65742958-a81a-4bf5-980a-98b39cfe0de2"
      },
      "source": [
        "import pandas as pd\n",
        "\n",
        "scaled = pd.read_csv('https://raw.githubusercontent.com/trackteam-spotify/data-science/master/data/final_scaled_dataset.csv')\n",
        "\n",
        "scaled.head()"
      ],
      "execution_count": 2,
      "outputs": [
        {
          "output_type": "execute_result",
          "data": {
            "text/html": [
              "<div>\n",
              "<style scoped>\n",
              "    .dataframe tbody tr th:only-of-type {\n",
              "        vertical-align: middle;\n",
              "    }\n",
              "\n",
              "    .dataframe tbody tr th {\n",
              "        vertical-align: top;\n",
              "    }\n",
              "\n",
              "    .dataframe thead th {\n",
              "        text-align: right;\n",
              "    }\n",
              "</style>\n",
              "<table border=\"1\" class=\"dataframe\">\n",
              "  <thead>\n",
              "    <tr style=\"text-align: right;\">\n",
              "      <th></th>\n",
              "      <th>index</th>\n",
              "      <th>artist_name</th>\n",
              "      <th>track_name</th>\n",
              "      <th>track_id</th>\n",
              "      <th>popularity</th>\n",
              "      <th>danceability</th>\n",
              "      <th>energy</th>\n",
              "      <th>instrumentalness</th>\n",
              "      <th>liveness</th>\n",
              "      <th>loudness</th>\n",
              "      <th>tempo</th>\n",
              "    </tr>\n",
              "  </thead>\n",
              "  <tbody>\n",
              "    <tr>\n",
              "      <th>0</th>\n",
              "      <td>1</td>\n",
              "      <td>Nicholas Britell</td>\n",
              "      <td>Eros</td>\n",
              "      <td>3w5s0j9clwhk0O2uScrNOo</td>\n",
              "      <td>-0.259352</td>\n",
              "      <td>-2.986856</td>\n",
              "      <td>-1.425094</td>\n",
              "      <td>2.658536</td>\n",
              "      <td>-0.859445</td>\n",
              "      <td>-2.108236</td>\n",
              "      <td>-1.200244</td>\n",
              "    </tr>\n",
              "    <tr>\n",
              "      <th>1</th>\n",
              "      <td>2</td>\n",
              "      <td>Seeb</td>\n",
              "      <td>Grip</td>\n",
              "      <td>3gicyfiEVMGONgzygpWjNT</td>\n",
              "      <td>3.219563</td>\n",
              "      <td>0.049805</td>\n",
              "      <td>1.276434</td>\n",
              "      <td>-0.398629</td>\n",
              "      <td>0.478628</td>\n",
              "      <td>1.254850</td>\n",
              "      <td>0.614084</td>\n",
              "    </tr>\n",
              "    <tr>\n",
              "      <th>2</th>\n",
              "      <td>3</td>\n",
              "      <td>Lagwagon</td>\n",
              "      <td>Reign</td>\n",
              "      <td>7jLDlShR2ARgNKyAOD94LD</td>\n",
              "      <td>-1.157137</td>\n",
              "      <td>-0.673351</td>\n",
              "      <td>1.466926</td>\n",
              "      <td>-0.397736</td>\n",
              "      <td>-0.172702</td>\n",
              "      <td>0.643049</td>\n",
              "      <td>-0.479831</td>\n",
              "    </tr>\n",
              "    <tr>\n",
              "      <th>3</th>\n",
              "      <td>4</td>\n",
              "      <td>Super Whatevr</td>\n",
              "      <td>Someone Somewhere Somehow</td>\n",
              "      <td>0XvFwux1NYJrKmCYJ7DOjE</td>\n",
              "      <td>-1.157137</td>\n",
              "      <td>-0.922306</td>\n",
              "      <td>-1.455400</td>\n",
              "      <td>-0.296192</td>\n",
              "      <td>-0.394028</td>\n",
              "      <td>-1.292787</td>\n",
              "      <td>0.206582</td>\n",
              "    </tr>\n",
              "    <tr>\n",
              "      <th>4</th>\n",
              "      <td>5</td>\n",
              "      <td>The Front Bottoms</td>\n",
              "      <td>Flashlight</td>\n",
              "      <td>0xR5ZhiksJK6lMRdI6S2A4</td>\n",
              "      <td>-0.371575</td>\n",
              "      <td>-0.951944</td>\n",
              "      <td>1.107588</td>\n",
              "      <td>-0.398629</td>\n",
              "      <td>-0.526824</td>\n",
              "      <td>0.942632</td>\n",
              "      <td>1.048378</td>\n",
              "    </tr>\n",
              "  </tbody>\n",
              "</table>\n",
              "</div>"
            ],
            "text/plain": [
              "   index        artist_name  ...  loudness     tempo\n",
              "0      1   Nicholas Britell  ... -2.108236 -1.200244\n",
              "1      2               Seeb  ...  1.254850  0.614084\n",
              "2      3           Lagwagon  ...  0.643049 -0.479831\n",
              "3      4      Super Whatevr  ... -1.292787  0.206582\n",
              "4      5  The Front Bottoms  ...  0.942632  1.048378\n",
              "\n",
              "[5 rows x 11 columns]"
            ]
          },
          "metadata": {
            "tags": []
          },
          "execution_count": 2
        }
      ]
    },
    {
      "cell_type": "code",
      "metadata": {
        "colab": {
          "base_uri": "https://localhost:8080/"
        },
        "id": "BfGV4bcKvNHp",
        "outputId": "185579de-f580-42c5-b4f2-0b17c2ebda2b"
      },
      "source": [
        "scaled.shape"
      ],
      "execution_count": 3,
      "outputs": [
        {
          "output_type": "execute_result",
          "data": {
            "text/plain": [
              "(5000, 11)"
            ]
          },
          "metadata": {
            "tags": []
          },
          "execution_count": 3
        }
      ]
    },
    {
      "cell_type": "code",
      "metadata": {
        "id": "sMBscS7tg1iX"
      },
      "source": [
        "# Variables to cluster\n",
        "\n",
        "cluster = ['popularity', 'danceability', 'energy', 'instrumentalness', 'liveness', 'loudness', 'tempo']\n",
        "\n",
        "distortion = list()\n",
        "for k in range(1, 31): #started with range [1, 51] and narrowed down to this range \n",
        "    kmeans = KMeans(n_clusters = k)\n",
        "    kmeans.fit(scaled.loc[:, cluster])\n",
        "    distortion.append(kmeans.inertia_) # append distortion value to list"
      ],
      "execution_count": 4,
      "outputs": []
    },
    {
      "cell_type": "markdown",
      "metadata": {
        "id": "VSByRqz9hRnS"
      },
      "source": [
        "## Modeling K-Nearest Neighbors"
      ]
    },
    {
      "cell_type": "code",
      "metadata": {
        "colab": {
          "base_uri": "https://localhost:8080/"
        },
        "id": "dWxzVasKhUMJ",
        "outputId": "03fcacd3-b592-4b92-aeb3-fff538fd09e7"
      },
      "source": [
        "knn = NearestNeighbors(n_neighbors=15)\n",
        "features = ['popularity', 'danceability', 'energy', 'instrumentalness', 'liveness', 'loudness', 'tempo']\n",
        "X = scaled[features].values\n",
        "\n",
        "knn.fit(X)"
      ],
      "execution_count": 5,
      "outputs": [
        {
          "output_type": "execute_result",
          "data": {
            "text/plain": [
              "NearestNeighbors(algorithm='auto', leaf_size=30, metric='minkowski',\n",
              "                 metric_params=None, n_jobs=None, n_neighbors=15, p=2,\n",
              "                 radius=1.0)"
            ]
          },
          "metadata": {
            "tags": []
          },
          "execution_count": 5
        }
      ]
    },
    {
      "cell_type": "code",
      "metadata": {
        "colab": {
          "base_uri": "https://localhost:8080/"
        },
        "id": "fvB7YBiihfiv",
        "outputId": "a0b821fd-f46f-42d0-940c-64fa85ba9307"
      },
      "source": [
        "# test on 1 song\n",
        "test_song = X[20]\n",
        "\n",
        "distance, neighbors = knn.kneighbors(np.array([test_song]))\n",
        "distance, neighbors"
      ],
      "execution_count": 6,
      "outputs": [
        {
          "output_type": "execute_result",
          "data": {
            "text/plain": [
              "(array([[0.        , 0.63472403, 0.68087431, 0.68190637, 0.78568082,\n",
              "         0.78977841, 0.79588194, 0.80620697, 0.8157036 , 0.81841708,\n",
              "         0.82283869, 0.84523641, 0.84715768, 0.93537395, 0.93875525]]),\n",
              " array([[  20, 3806,  301, 2356, 3462, 1585, 1731, 1940, 2330,  695, 2353,\n",
              "         1959,  849, 4776, 3544]]))"
            ]
          },
          "metadata": {
            "tags": []
          },
          "execution_count": 6
        }
      ]
    },
    {
      "cell_type": "code",
      "metadata": {
        "colab": {
          "base_uri": "https://localhost:8080/"
        },
        "id": "_PZ1FGhNhiKB",
        "outputId": "9b08a654-5dfa-48f1-97aa-7ce13af5df78"
      },
      "source": [
        "scaled.iloc[20]"
      ],
      "execution_count": 7,
      "outputs": [
        {
          "output_type": "execute_result",
          "data": {
            "text/plain": [
              "index                                           21\n",
              "artist_name                               Dua Lipa\n",
              "track_name          New Rules - Initial Talk Remix\n",
              "track_id                    2ygfHXyt3gvyhvKrNJU61n\n",
              "popularity                                0.750656\n",
              "danceability                             -0.341411\n",
              "energy                                     1.59248\n",
              "instrumentalness                         -0.398629\n",
              "liveness                                 -0.235938\n",
              "loudness                                   1.15463\n",
              "tempo                                    -0.108978\n",
              "Name: 20, dtype: object"
            ]
          },
          "metadata": {
            "tags": []
          },
          "execution_count": 7
        }
      ]
    },
    {
      "cell_type": "markdown",
      "metadata": {
        "id": "WLKWma8AFhHy"
      },
      "source": [
        "## New playlist based off user input"
      ]
    },
    {
      "cell_type": "code",
      "metadata": {
        "colab": {
          "base_uri": "https://localhost:8080/",
          "height": 215
        },
        "id": "dbu-AknChlr-",
        "outputId": "8a0cdb21-aba1-4b00-da56-3352ad6aef1e"
      },
      "source": [
        "song_list = []\n",
        "for item in neighbors[0][1:]: # this way excludes itself\n",
        "    row = scaled.iloc[item]\n",
        "    song_list.append((row.track_name, row.artist_name))\n",
        "    \n",
        "names = ['song', 'artist']\n",
        "\n",
        "new_playlist = pd.DataFrame(song_list, columns=names)\n",
        "print(recommendations.shape)\n",
        "new_playlist"
      ],
      "execution_count": 8,
      "outputs": [
        {
          "output_type": "error",
          "ename": "NameError",
          "evalue": "ignored",
          "traceback": [
            "\u001b[0;31m---------------------------------------------------------------------------\u001b[0m",
            "\u001b[0;31mNameError\u001b[0m                                 Traceback (most recent call last)",
            "\u001b[0;32m<ipython-input-8-bbff5774552c>\u001b[0m in \u001b[0;36m<module>\u001b[0;34m()\u001b[0m\n\u001b[1;32m      7\u001b[0m \u001b[0;34m\u001b[0m\u001b[0m\n\u001b[1;32m      8\u001b[0m \u001b[0mnew_playlist\u001b[0m \u001b[0;34m=\u001b[0m \u001b[0mpd\u001b[0m\u001b[0;34m.\u001b[0m\u001b[0mDataFrame\u001b[0m\u001b[0;34m(\u001b[0m\u001b[0msong_list\u001b[0m\u001b[0;34m,\u001b[0m \u001b[0mcolumns\u001b[0m\u001b[0;34m=\u001b[0m\u001b[0mnames\u001b[0m\u001b[0;34m)\u001b[0m\u001b[0;34m\u001b[0m\u001b[0;34m\u001b[0m\u001b[0m\n\u001b[0;32m----> 9\u001b[0;31m \u001b[0mprint\u001b[0m\u001b[0;34m(\u001b[0m\u001b[0mrecommendations\u001b[0m\u001b[0;34m.\u001b[0m\u001b[0mshape\u001b[0m\u001b[0;34m)\u001b[0m\u001b[0;34m\u001b[0m\u001b[0;34m\u001b[0m\u001b[0m\n\u001b[0m\u001b[1;32m     10\u001b[0m \u001b[0mnew_playlist\u001b[0m\u001b[0;34m\u001b[0m\u001b[0;34m\u001b[0m\u001b[0m\n",
            "\u001b[0;31mNameError\u001b[0m: name 'recommendations' is not defined"
          ]
        }
      ]
    },
    {
      "cell_type": "markdown",
      "metadata": {
        "id": "SikUkYLzKB-h"
      },
      "source": [
        "## Pickle the Model\n"
      ]
    },
    {
      "cell_type": "code",
      "metadata": {
        "id": "8w2CaXq1KW-G"
      },
      "source": [
        "import joblib\n",
        "joblib.dump(knn, 'model.pkl')"
      ],
      "execution_count": null,
      "outputs": []
    },
    {
      "cell_type": "code",
      "metadata": {
        "id": "YK5-QovxKY2S"
      },
      "source": [
        "model = joblib.load('model.pkl')"
      ],
      "execution_count": null,
      "outputs": []
    },
    {
      "cell_type": "code",
      "metadata": {
        "id": "d3y66DyHLLHp"
      },
      "source": [
        "model.kneighbors(X[11].reshape(1,-1))[1][0][1:]"
      ],
      "execution_count": null,
      "outputs": []
    }
  ]
}